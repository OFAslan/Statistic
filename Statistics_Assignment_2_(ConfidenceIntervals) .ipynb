{
 "cells": [
  {
   "cell_type": "code",
   "execution_count": 1,
   "id": "f40df066",
   "metadata": {},
   "outputs": [],
   "source": [
    "import numpy as np\n",
    "from scipy import stats\n",
    "import matplotlib.pyplot as plt\n",
    "import seaborn as sns"
   ]
  },
  {
   "cell_type": "markdown",
   "id": "8d1833b0",
   "metadata": {},
   "source": [
    "EXERCISE 1. Suppose scores on exams in statistics are normally distributed with an unknown population mean and a population standard deviation of 3 points. A random sample of 36 scores is taken and gives a sample mean (sample  mean score) of 68. Find a confidence interval estimate for the population mean exam score (the mean score on all exams).\n",
    "\n",
    "Find a 90% confidence interval for the true (population) mean of statistics exam scores."
   ]
  },
  {
   "cell_type": "code",
   "execution_count": 16,
   "id": "176c4218",
   "metadata": {},
   "outputs": [
    {
     "data": {
      "text/plain": [
       "(67.17757318652427, 68.82242681347573)"
      ]
     },
     "execution_count": 16,
     "metadata": {},
     "output_type": "execute_result"
    }
   ],
   "source": [
    "# population mean : unknown\n",
    "# population std : 3\n",
    "# n = 36\n",
    "# sample mean : 68\n",
    "# we know the std of population and also the n is above 30 so we can use z test here.\n",
    "\n",
    "xbar = 68\n",
    "n = 36\n",
    "sigma = 3\n",
    "sem = sigma / (np.sqrt(n))\n",
    "\n",
    "ci_1 = stats.norm.interval(0.90, loc=xbar, scale=sem)\n",
    "ci_1"
   ]
  },
  {
   "cell_type": "markdown",
   "id": "5c83fc10",
   "metadata": {},
   "source": [
    "EXERCISE 2. What is the normal body temperature for healthy humans? A random sample of 130 healthy human body temperatures provided by Allen Shoemaker7 yielded 98.25 degrees and standard deviation 0.73 degrees. \n",
    "\n",
    "Give a 99% confidence interval for the average body temperature of healthy people."
   ]
  },
  {
   "cell_type": "code",
   "execution_count": 17,
   "id": "1f1a3895",
   "metadata": {},
   "outputs": [
    {
     "data": {
      "text/plain": [
       "(98.08508192246582, 98.41491807753418)"
      ]
     },
     "execution_count": 17,
     "metadata": {},
     "output_type": "execute_result"
    }
   ],
   "source": [
    "n = 130\n",
    "xbar = 98.25\n",
    "std = 0.73\n",
    "sem = std / np.sqrt(n)\n",
    "\n",
    "ci_2 = stats.norm.interval(0.99, loc = xbar, scale = sem)\n",
    "ci_2"
   ]
  },
  {
   "cell_type": "code",
   "execution_count": 18,
   "id": "bbc985c2",
   "metadata": {},
   "outputs": [
    {
     "data": {
      "text/plain": [
       "(98.08260738705933, 98.41739261294067)"
      ]
     },
     "execution_count": 18,
     "metadata": {},
     "output_type": "execute_result"
    }
   ],
   "source": [
    "#let's also check the above results with t dist.\n",
    "\n",
    "stats.t.interval(0.99, df = n-1, loc = xbar, scale = sem)"
   ]
  },
  {
   "cell_type": "markdown",
   "id": "6ba7c9d6",
   "metadata": {},
   "source": [
    "EXERCISE 3. The administrators for a hospital wished to estimate the average number of days required for inpatient treatment of patients between the ages of 25 and 34. A random sample of 500 hospital patients between these ages produced a mean and standard deviation equal to 5.4 and 3.1 days, respectively.\n",
    "Construct a 95% confidence interval for the mean length of stay for the population of patients from which the sample was drawn."
   ]
  },
  {
   "cell_type": "code",
   "execution_count": 20,
   "id": "290809ea",
   "metadata": {},
   "outputs": [
    {
     "data": {
      "text/plain": [
       "(5.12827801242126, 5.67172198757874)"
      ]
     },
     "execution_count": 20,
     "metadata": {},
     "output_type": "execute_result"
    }
   ],
   "source": [
    "#sample size : 500\n",
    "#sample mean : 5.4\n",
    "#sample std : 3.1\n",
    "#conf int : 95\n",
    "\n",
    "n = 500\n",
    "xbar = 5.4\n",
    "std = 3.1\n",
    "sem = std / np.sqrt(n)\n",
    "\n",
    "ci_3 = stats.norm.interval(0.95, loc = xbar, scale = sem)\n",
    "ci_3"
   ]
  }
 ],
 "metadata": {
  "kernelspec": {
   "display_name": "Python 3 (ipykernel)",
   "language": "python",
   "name": "python3"
  },
  "language_info": {
   "codemirror_mode": {
    "name": "ipython",
    "version": 3
   },
   "file_extension": ".py",
   "mimetype": "text/x-python",
   "name": "python",
   "nbconvert_exporter": "python",
   "pygments_lexer": "ipython3",
   "version": "3.9.12"
  }
 },
 "nbformat": 4,
 "nbformat_minor": 5
}
