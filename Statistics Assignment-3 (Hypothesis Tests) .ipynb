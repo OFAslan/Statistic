{
 "cells": [
  {
   "cell_type": "code",
   "execution_count": 6,
   "id": "7482c58d",
   "metadata": {},
   "outputs": [],
   "source": [
    "import numpy as np\n",
    "import pandas as pd\n",
    "import seaborn as sns\n",
    "import matplotlib.pyplot as plt\n",
    "from scipy import stats"
   ]
  },
  {
   "cell_type": "markdown",
   "id": "aacf8a52",
   "metadata": {},
   "source": [
    "#### EXERCISE 1\n",
    "The hourly wages in a particular industry are normally distributed with mean $13.20 and standard deviation $2.50. A company in this industry employs 40 workers, paying them an average of $12.20 per hour. Can this company be accused of paying substandard wages? Use an α = .01 level test. (Wackerly, Ex.10.18)\n",
    "\n",
    "CHECK: statistic: -2.5298221281347035, pvalue= 0.005706018193000826"
   ]
  },
  {
   "cell_type": "code",
   "execution_count": 4,
   "id": "2b0497f3",
   "metadata": {},
   "outputs": [
    {
     "data": {
      "text/plain": [
       "-2.5298221281347035"
      ]
     },
     "execution_count": 4,
     "metadata": {},
     "output_type": "execute_result"
    }
   ],
   "source": [
    "#first of all let's see our hypothesis.\n",
    "\n",
    "#h0 : h0 >= 13.20\n",
    "#h1 : h1 < 13.20\n",
    "\n",
    "mu = 13.20\n",
    "x_bar = 12.20\n",
    "n = 40\n",
    "sigma = 2.50\n",
    "alpha = 0.01\n",
    "\n",
    "#we can use z-test in this case.\n",
    "\n",
    "z = (12.20 - 13.20) / (sigma/np.sqrt(n))\n",
    "z"
   ]
  },
  {
   "cell_type": "code",
   "execution_count": 7,
   "id": "60455c5c",
   "metadata": {},
   "outputs": [
    {
     "data": {
      "text/plain": [
       "0.005706018193000826"
      ]
     },
     "execution_count": 7,
     "metadata": {},
     "output_type": "execute_result"
    }
   ],
   "source": [
    "#now we will found p_value\n",
    "\n",
    "p_value = stats.norm.cdf(z)\n",
    "p_value"
   ]
  },
  {
   "cell_type": "code",
   "execution_count": 8,
   "id": "665853a3",
   "metadata": {},
   "outputs": [
    {
     "name": "stdout",
     "output_type": "stream",
     "text": [
      "At 0.01 level of significance, we can reject the null hypothesis in favor of alternative hypothesis.\n"
     ]
    }
   ],
   "source": [
    "if p_value<alpha:\n",
    "    print('At {} level of significance, we can reject the null hypothesis in favor of alternative hypothesis.'.format(alpha))\n",
    "else:\n",
    "    print('At {} level of significance, we fail to reject the null hypothesis.'.format(alpha))"
   ]
  },
  {
   "cell_type": "markdown",
   "id": "6eaaa2ca",
   "metadata": {},
   "source": [
    "As above outputs show us, we can accuse of the company for paying substandard wages."
   ]
  },
  {
   "cell_type": "markdown",
   "id": "86bce048",
   "metadata": {},
   "source": [
    "#### EXERCISE 2\n",
    "Shear strength measurements derived from unconfined compression tests for two types of soils gave the results shown in the following document (measurements in tons per square foot). Do the soils appear to differ with respect to average shear strength, at the 1% significance level?\n",
    "\n",
    "Results for two type of soils\n",
    "\n",
    "CHECK: statistic: 5.1681473319343345, pvalue= 2.593228732352821e-06;"
   ]
  },
  {
   "cell_type": "code",
   "execution_count": 15,
   "id": "db6e4fd3",
   "metadata": {},
   "outputs": [
    {
     "data": {
      "text/html": [
       "<div>\n",
       "<style scoped>\n",
       "    .dataframe tbody tr th:only-of-type {\n",
       "        vertical-align: middle;\n",
       "    }\n",
       "\n",
       "    .dataframe tbody tr th {\n",
       "        vertical-align: top;\n",
       "    }\n",
       "\n",
       "    .dataframe thead th {\n",
       "        text-align: right;\n",
       "    }\n",
       "</style>\n",
       "<table border=\"1\" class=\"dataframe\">\n",
       "  <thead>\n",
       "    <tr style=\"text-align: right;\">\n",
       "      <th></th>\n",
       "      <th>Soil1</th>\n",
       "      <th>Soil2</th>\n",
       "    </tr>\n",
       "  </thead>\n",
       "  <tbody>\n",
       "    <tr>\n",
       "      <th>0</th>\n",
       "      <td>1.442</td>\n",
       "      <td>1.364</td>\n",
       "    </tr>\n",
       "    <tr>\n",
       "      <th>1</th>\n",
       "      <td>1.943</td>\n",
       "      <td>1.878</td>\n",
       "    </tr>\n",
       "    <tr>\n",
       "      <th>2</th>\n",
       "      <td>1.110</td>\n",
       "      <td>1.337</td>\n",
       "    </tr>\n",
       "    <tr>\n",
       "      <th>3</th>\n",
       "      <td>1.912</td>\n",
       "      <td>1.828</td>\n",
       "    </tr>\n",
       "    <tr>\n",
       "      <th>4</th>\n",
       "      <td>1.553</td>\n",
       "      <td>1.371</td>\n",
       "    </tr>\n",
       "  </tbody>\n",
       "</table>\n",
       "</div>"
      ],
      "text/plain": [
       "   Soil1  Soil2\n",
       "0  1.442  1.364\n",
       "1  1.943  1.878\n",
       "2  1.110  1.337\n",
       "3  1.912  1.828\n",
       "4  1.553  1.371"
      ]
     },
     "execution_count": 15,
     "metadata": {},
     "output_type": "execute_result"
    }
   ],
   "source": [
    "df = pd.read_csv(\"soil - Sheet1.csv\")\n",
    "df.head()"
   ]
  },
  {
   "cell_type": "code",
   "execution_count": 17,
   "id": "c333e964",
   "metadata": {},
   "outputs": [
    {
     "data": {
      "text/html": [
       "<div>\n",
       "<style scoped>\n",
       "    .dataframe tbody tr th:only-of-type {\n",
       "        vertical-align: middle;\n",
       "    }\n",
       "\n",
       "    .dataframe tbody tr th {\n",
       "        vertical-align: top;\n",
       "    }\n",
       "\n",
       "    .dataframe thead th {\n",
       "        text-align: right;\n",
       "    }\n",
       "</style>\n",
       "<table border=\"1\" class=\"dataframe\">\n",
       "  <thead>\n",
       "    <tr style=\"text-align: right;\">\n",
       "      <th></th>\n",
       "      <th>count</th>\n",
       "      <th>mean</th>\n",
       "      <th>std</th>\n",
       "      <th>min</th>\n",
       "      <th>25%</th>\n",
       "      <th>50%</th>\n",
       "      <th>75%</th>\n",
       "      <th>max</th>\n",
       "    </tr>\n",
       "  </thead>\n",
       "  <tbody>\n",
       "    <tr>\n",
       "      <th>Soil1</th>\n",
       "      <td>30.0</td>\n",
       "      <td>1.691800</td>\n",
       "      <td>0.206903</td>\n",
       "      <td>1.110</td>\n",
       "      <td>1.572</td>\n",
       "      <td>1.675</td>\n",
       "      <td>1.86525</td>\n",
       "      <td>2.054</td>\n",
       "    </tr>\n",
       "    <tr>\n",
       "      <th>Soil2</th>\n",
       "      <td>35.0</td>\n",
       "      <td>1.417114</td>\n",
       "      <td>0.219184</td>\n",
       "      <td>1.053</td>\n",
       "      <td>1.231</td>\n",
       "      <td>1.379</td>\n",
       "      <td>1.55900</td>\n",
       "      <td>1.878</td>\n",
       "    </tr>\n",
       "  </tbody>\n",
       "</table>\n",
       "</div>"
      ],
      "text/plain": [
       "       count      mean       std    min    25%    50%      75%    max\n",
       "Soil1   30.0  1.691800  0.206903  1.110  1.572  1.675  1.86525  2.054\n",
       "Soil2   35.0  1.417114  0.219184  1.053  1.231  1.379  1.55900  1.878"
      ]
     },
     "execution_count": 17,
     "metadata": {},
     "output_type": "execute_result"
    }
   ],
   "source": [
    "df.describe().T"
   ]
  },
  {
   "cell_type": "code",
   "execution_count": 34,
   "id": "b2c731ed",
   "metadata": {},
   "outputs": [
    {
     "data": {
      "text/plain": [
       "Ttest_indResult(statistic=5.1681473319343345, pvalue=2.5932287323528147e-06)"
      ]
     },
     "execution_count": 34,
     "metadata": {},
     "output_type": "execute_result"
    }
   ],
   "source": [
    "# H0 : mu1 = mu2\n",
    "# H1 : mu1 != mu2 \n",
    "\n",
    "#There are two different soil types, so independent sample test can be used. \n",
    "\n",
    "indTest = stats.ttest_ind(df[\"Soil1\"], df[\"Soil2\"], nan_policy = \"omit\")\n",
    "indTest"
   ]
  },
  {
   "cell_type": "markdown",
   "id": "a9dc42db",
   "metadata": {},
   "source": [
    "As p_value shows us it is lower than alpha (0.01%), h0 is rejected."
   ]
  },
  {
   "cell_type": "markdown",
   "id": "0da77b75",
   "metadata": {},
   "source": [
    "#### EXERCISE 3\n",
    "The following dataset is based on data provided by the World Bank (https://datacatalog.worldbank.org/dataset/education-statistics). World Bank Edstats.  2015 PISA Test Dataset\n",
    "\n",
    "Get descriptive statistics (the central tendency, dispersion and shape of a dataset’s distribution) for each continent group (AS, EU, AF, NA, SA, OC).\n",
    "Determine whether there is any difference (on the average) for the math scores among European (EU) and Asian (AS) countries (assume normality and equal variances). Draw side-by-side box plots."
   ]
  },
  {
   "cell_type": "code",
   "execution_count": 35,
   "id": "61d3d01d",
   "metadata": {},
   "outputs": [
    {
     "data": {
      "text/html": [
       "<div>\n",
       "<style scoped>\n",
       "    .dataframe tbody tr th:only-of-type {\n",
       "        vertical-align: middle;\n",
       "    }\n",
       "\n",
       "    .dataframe tbody tr th {\n",
       "        vertical-align: top;\n",
       "    }\n",
       "\n",
       "    .dataframe thead th {\n",
       "        text-align: right;\n",
       "    }\n",
       "</style>\n",
       "<table border=\"1\" class=\"dataframe\">\n",
       "  <thead>\n",
       "    <tr style=\"text-align: right;\">\n",
       "      <th></th>\n",
       "      <th>Country Code</th>\n",
       "      <th>Continent_Code</th>\n",
       "      <th>internet_users_per_100</th>\n",
       "      <th>Math</th>\n",
       "      <th>Reading</th>\n",
       "      <th>Science</th>\n",
       "    </tr>\n",
       "  </thead>\n",
       "  <tbody>\n",
       "    <tr>\n",
       "      <th>0</th>\n",
       "      <td>ALB</td>\n",
       "      <td>EU</td>\n",
       "      <td>63.252933</td>\n",
       "      <td>413.157</td>\n",
       "      <td>405.2588</td>\n",
       "      <td>427.225</td>\n",
       "    </tr>\n",
       "  </tbody>\n",
       "</table>\n",
       "</div>"
      ],
      "text/plain": [
       "  Country Code Continent_Code  internet_users_per_100     Math   Reading  \\\n",
       "0          ALB             EU               63.252933  413.157  405.2588   \n",
       "\n",
       "   Science  \n",
       "0  427.225  "
      ]
     },
     "execution_count": 35,
     "metadata": {},
     "output_type": "execute_result"
    }
   ],
   "source": [
    "df2 = pd.read_csv(\"2015 PISA Test - Sheet1.csv\")\n",
    "df2.head(1)"
   ]
  },
  {
   "cell_type": "code",
   "execution_count": 36,
   "id": "0f3d4436",
   "metadata": {},
   "outputs": [
    {
     "data": {
      "text/html": [
       "<div>\n",
       "<style scoped>\n",
       "    .dataframe tbody tr th:only-of-type {\n",
       "        vertical-align: middle;\n",
       "    }\n",
       "\n",
       "    .dataframe tbody tr th {\n",
       "        vertical-align: top;\n",
       "    }\n",
       "\n",
       "    .dataframe thead th {\n",
       "        text-align: right;\n",
       "    }\n",
       "</style>\n",
       "<table border=\"1\" class=\"dataframe\">\n",
       "  <thead>\n",
       "    <tr style=\"text-align: right;\">\n",
       "      <th></th>\n",
       "      <th>count</th>\n",
       "      <th>mean</th>\n",
       "      <th>std</th>\n",
       "      <th>min</th>\n",
       "      <th>25%</th>\n",
       "      <th>50%</th>\n",
       "      <th>75%</th>\n",
       "      <th>max</th>\n",
       "    </tr>\n",
       "  </thead>\n",
       "  <tbody>\n",
       "    <tr>\n",
       "      <th>internet_users_per_100</th>\n",
       "      <td>70.0</td>\n",
       "      <td>71.973099</td>\n",
       "      <td>16.390632</td>\n",
       "      <td>21.976068</td>\n",
       "      <td>60.899020</td>\n",
       "      <td>72.99935</td>\n",
       "      <td>85.026763</td>\n",
       "      <td>98.2000</td>\n",
       "    </tr>\n",
       "    <tr>\n",
       "      <th>Math</th>\n",
       "      <td>70.0</td>\n",
       "      <td>460.971557</td>\n",
       "      <td>53.327205</td>\n",
       "      <td>327.702000</td>\n",
       "      <td>417.416075</td>\n",
       "      <td>477.60715</td>\n",
       "      <td>500.482925</td>\n",
       "      <td>564.1897</td>\n",
       "    </tr>\n",
       "    <tr>\n",
       "      <th>Reading</th>\n",
       "      <td>70.0</td>\n",
       "      <td>460.997291</td>\n",
       "      <td>49.502679</td>\n",
       "      <td>346.549000</td>\n",
       "      <td>426.948625</td>\n",
       "      <td>480.19985</td>\n",
       "      <td>499.687475</td>\n",
       "      <td>535.1002</td>\n",
       "    </tr>\n",
       "    <tr>\n",
       "      <th>Science</th>\n",
       "      <td>70.0</td>\n",
       "      <td>465.439093</td>\n",
       "      <td>48.397254</td>\n",
       "      <td>331.638800</td>\n",
       "      <td>425.923375</td>\n",
       "      <td>475.40005</td>\n",
       "      <td>502.431250</td>\n",
       "      <td>555.5747</td>\n",
       "    </tr>\n",
       "  </tbody>\n",
       "</table>\n",
       "</div>"
      ],
      "text/plain": [
       "                        count        mean        std         min         25%  \\\n",
       "internet_users_per_100   70.0   71.973099  16.390632   21.976068   60.899020   \n",
       "Math                     70.0  460.971557  53.327205  327.702000  417.416075   \n",
       "Reading                  70.0  460.997291  49.502679  346.549000  426.948625   \n",
       "Science                  70.0  465.439093  48.397254  331.638800  425.923375   \n",
       "\n",
       "                              50%         75%       max  \n",
       "internet_users_per_100   72.99935   85.026763   98.2000  \n",
       "Math                    477.60715  500.482925  564.1897  \n",
       "Reading                 480.19985  499.687475  535.1002  \n",
       "Science                 475.40005  502.431250  555.5747  "
      ]
     },
     "execution_count": 36,
     "metadata": {},
     "output_type": "execute_result"
    }
   ],
   "source": [
    "df2.describe().T"
   ]
  },
  {
   "cell_type": "code",
   "execution_count": 39,
   "id": "37db4d94",
   "metadata": {},
   "outputs": [
    {
     "data": {
      "text/plain": [
       "Index(['internet_users_per_100', 'Math', 'Reading', 'Science'], dtype='object')"
      ]
     },
     "execution_count": 39,
     "metadata": {},
     "output_type": "execute_result"
    }
   ],
   "source": [
    "df2.columns[2:]"
   ]
  },
  {
   "cell_type": "code",
   "execution_count": 53,
   "id": "345fbad9",
   "metadata": {},
   "outputs": [
    {
     "data": {
      "text/html": [
       "<div>\n",
       "<style scoped>\n",
       "    .dataframe tbody tr th:only-of-type {\n",
       "        vertical-align: middle;\n",
       "    }\n",
       "\n",
       "    .dataframe tbody tr th {\n",
       "        vertical-align: top;\n",
       "    }\n",
       "\n",
       "    .dataframe thead tr th {\n",
       "        text-align: left;\n",
       "    }\n",
       "\n",
       "    .dataframe thead tr:last-of-type th {\n",
       "        text-align: right;\n",
       "    }\n",
       "</style>\n",
       "<table border=\"1\" class=\"dataframe\">\n",
       "  <thead>\n",
       "    <tr>\n",
       "      <th></th>\n",
       "      <th colspan=\"4\" halign=\"left\">internet_users_per_100</th>\n",
       "      <th colspan=\"4\" halign=\"left\">Math</th>\n",
       "      <th colspan=\"4\" halign=\"left\">Reading</th>\n",
       "      <th colspan=\"4\" halign=\"left\">Science</th>\n",
       "    </tr>\n",
       "    <tr>\n",
       "      <th></th>\n",
       "      <th>std</th>\n",
       "      <th>mean</th>\n",
       "      <th>median</th>\n",
       "      <th>mode</th>\n",
       "      <th>std</th>\n",
       "      <th>mean</th>\n",
       "      <th>median</th>\n",
       "      <th>mode</th>\n",
       "      <th>std</th>\n",
       "      <th>mean</th>\n",
       "      <th>median</th>\n",
       "      <th>mode</th>\n",
       "      <th>std</th>\n",
       "      <th>mean</th>\n",
       "      <th>median</th>\n",
       "      <th>mode</th>\n",
       "    </tr>\n",
       "    <tr>\n",
       "      <th>Continent_Code</th>\n",
       "      <th></th>\n",
       "      <th></th>\n",
       "      <th></th>\n",
       "      <th></th>\n",
       "      <th></th>\n",
       "      <th></th>\n",
       "      <th></th>\n",
       "      <th></th>\n",
       "      <th></th>\n",
       "      <th></th>\n",
       "      <th></th>\n",
       "      <th></th>\n",
       "      <th></th>\n",
       "      <th></th>\n",
       "      <th></th>\n",
       "      <th></th>\n",
       "    </tr>\n",
       "  </thead>\n",
       "  <tbody>\n",
       "    <tr>\n",
       "      <th>AF</th>\n",
       "      <td>7.297226</td>\n",
       "      <td>43.359918</td>\n",
       "      <td>43.359918</td>\n",
       "      <td>([38.2], [1])</td>\n",
       "      <td>5.099513</td>\n",
       "      <td>363.212100</td>\n",
       "      <td>363.21210</td>\n",
       "      <td>([359.6062], [1])</td>\n",
       "      <td>7.916909</td>\n",
       "      <td>355.457400</td>\n",
       "      <td>355.45740</td>\n",
       "      <td>([349.8593], [1])</td>\n",
       "      <td>7.536556</td>\n",
       "      <td>381.074250</td>\n",
       "      <td>381.07425</td>\n",
       "      <td>([375.7451], [1])</td>\n",
       "    </tr>\n",
       "    <tr>\n",
       "      <th>AS</th>\n",
       "      <td>21.086060</td>\n",
       "      <td>68.455613</td>\n",
       "      <td>74.000000</td>\n",
       "      <td>([21.97606771], [1])</td>\n",
       "      <td>64.356490</td>\n",
       "      <td>466.216647</td>\n",
       "      <td>459.81600</td>\n",
       "      <td>([380.259], [1])</td>\n",
       "      <td>57.048962</td>\n",
       "      <td>454.059682</td>\n",
       "      <td>433.54230</td>\n",
       "      <td>([346.549], [1])</td>\n",
       "      <td>56.671371</td>\n",
       "      <td>467.945847</td>\n",
       "      <td>456.48360</td>\n",
       "      <td>([386.4854], [1])</td>\n",
       "    </tr>\n",
       "    <tr>\n",
       "      <th>EU</th>\n",
       "      <td>12.425773</td>\n",
       "      <td>77.274888</td>\n",
       "      <td>76.184000</td>\n",
       "      <td>([53.74497914], [1])</td>\n",
       "      <td>35.150403</td>\n",
       "      <td>477.981449</td>\n",
       "      <td>489.72870</td>\n",
       "      <td>([371.3114], [1])</td>\n",
       "      <td>37.720545</td>\n",
       "      <td>476.164608</td>\n",
       "      <td>487.25010</td>\n",
       "      <td>([351.7415], [1])</td>\n",
       "      <td>34.450616</td>\n",
       "      <td>478.299381</td>\n",
       "      <td>490.22500</td>\n",
       "      <td>([383.6824], [1])</td>\n",
       "    </tr>\n",
       "    <tr>\n",
       "      <th>OC</th>\n",
       "      <td>2.589686</td>\n",
       "      <td>86.391704</td>\n",
       "      <td>86.391704</td>\n",
       "      <td>([84.56051935], [1])</td>\n",
       "      <td>0.938401</td>\n",
       "      <td>494.559750</td>\n",
       "      <td>494.55975</td>\n",
       "      <td>([493.8962], [1])</td>\n",
       "      <td>4.504341</td>\n",
       "      <td>506.085650</td>\n",
       "      <td>506.08565</td>\n",
       "      <td>([502.9006], [1])</td>\n",
       "      <td>2.340241</td>\n",
       "      <td>511.648700</td>\n",
       "      <td>511.64870</td>\n",
       "      <td>([509.9939], [1])</td>\n",
       "    </tr>\n",
       "    <tr>\n",
       "      <th>SA</th>\n",
       "      <td>9.772455</td>\n",
       "      <td>60.180494</td>\n",
       "      <td>64.289000</td>\n",
       "      <td>([40.9], [1])</td>\n",
       "      <td>18.128894</td>\n",
       "      <td>402.887700</td>\n",
       "      <td>409.03330</td>\n",
       "      <td>([377.0695], [1])</td>\n",
       "      <td>19.709688</td>\n",
       "      <td>425.359229</td>\n",
       "      <td>425.30310</td>\n",
       "      <td>([397.5414], [1])</td>\n",
       "      <td>18.470319</td>\n",
       "      <td>421.747186</td>\n",
       "      <td>424.59050</td>\n",
       "      <td>([396.6836], [1])</td>\n",
       "    </tr>\n",
       "  </tbody>\n",
       "</table>\n",
       "</div>"
      ],
      "text/plain": [
       "               internet_users_per_100                        \\\n",
       "                                  std       mean     median   \n",
       "Continent_Code                                                \n",
       "AF                           7.297226  43.359918  43.359918   \n",
       "AS                          21.086060  68.455613  74.000000   \n",
       "EU                          12.425773  77.274888  76.184000   \n",
       "OC                           2.589686  86.391704  86.391704   \n",
       "SA                           9.772455  60.180494  64.289000   \n",
       "\n",
       "                                           Math                         \\\n",
       "                                mode        std        mean     median   \n",
       "Continent_Code                                                           \n",
       "AF                     ([38.2], [1])   5.099513  363.212100  363.21210   \n",
       "AS              ([21.97606771], [1])  64.356490  466.216647  459.81600   \n",
       "EU              ([53.74497914], [1])  35.150403  477.981449  489.72870   \n",
       "OC              ([84.56051935], [1])   0.938401  494.559750  494.55975   \n",
       "SA                     ([40.9], [1])  18.128894  402.887700  409.03330   \n",
       "\n",
       "                                     Reading                         \\\n",
       "                             mode        std        mean     median   \n",
       "Continent_Code                                                        \n",
       "AF              ([359.6062], [1])   7.916909  355.457400  355.45740   \n",
       "AS               ([380.259], [1])  57.048962  454.059682  433.54230   \n",
       "EU              ([371.3114], [1])  37.720545  476.164608  487.25010   \n",
       "OC              ([493.8962], [1])   4.504341  506.085650  506.08565   \n",
       "SA              ([377.0695], [1])  19.709688  425.359229  425.30310   \n",
       "\n",
       "                                     Science                         \\\n",
       "                             mode        std        mean     median   \n",
       "Continent_Code                                                        \n",
       "AF              ([349.8593], [1])   7.536556  381.074250  381.07425   \n",
       "AS               ([346.549], [1])  56.671371  467.945847  456.48360   \n",
       "EU              ([351.7415], [1])  34.450616  478.299381  490.22500   \n",
       "OC              ([502.9006], [1])   2.340241  511.648700  511.64870   \n",
       "SA              ([397.5414], [1])  18.470319  421.747186  424.59050   \n",
       "\n",
       "                                   \n",
       "                             mode  \n",
       "Continent_Code                     \n",
       "AF              ([375.7451], [1])  \n",
       "AS              ([386.4854], [1])  \n",
       "EU              ([383.6824], [1])  \n",
       "OC              ([509.9939], [1])  \n",
       "SA              ([396.6836], [1])  "
      ]
     },
     "execution_count": 53,
     "metadata": {},
     "output_type": "execute_result"
    }
   ],
   "source": [
    "df2.groupby(\"Continent_Code\")[df2.columns[2:]].agg([\"std\", \"mean\", \"median\", stats.mode])"
   ]
  },
  {
   "cell_type": "code",
   "execution_count": 109,
   "id": "3d2d30ff",
   "metadata": {},
   "outputs": [],
   "source": [
    "#h0 : EU_mu = AS_mu\n",
    "#h1 : EU_mu != AS_mu"
   ]
  },
  {
   "cell_type": "code",
   "execution_count": 135,
   "id": "94e5d383",
   "metadata": {},
   "outputs": [
    {
     "data": {
      "text/plain": [
       "Continent_Code\n",
       "AS    466.216647\n",
       "EU    477.981449\n",
       "Name: Math, dtype: float64"
      ]
     },
     "execution_count": 135,
     "metadata": {},
     "output_type": "execute_result"
    }
   ],
   "source": [
    "df2[(df2[\"Continent_Code\"] == \"AS\") | (df2[\"Continent_Code\"] == \"EU\" )].groupby(\"Continent_Code\")[\"Math\"].mean()"
   ]
  },
  {
   "cell_type": "code",
   "execution_count": 136,
   "id": "c0baf5a0",
   "metadata": {},
   "outputs": [
    {
     "data": {
      "text/plain": [
       "Ttest_indResult(statistic=0.870055317967983, pvalue=0.38826888111307345)"
      ]
     },
     "execution_count": 136,
     "metadata": {},
     "output_type": "execute_result"
    }
   ],
   "source": [
    "indTest = stats.ttest_ind(df2.loc[df2['Continent_Code'] == 'EU','Math'], df2.loc[df2['Continent_Code'] == 'AS','Math'])\n",
    "indTest"
   ]
  },
  {
   "cell_type": "code",
   "execution_count": 108,
   "id": "a9bb8232",
   "metadata": {},
   "outputs": [
    {
     "name": "stdout",
     "output_type": "stream",
     "text": [
      "At 0.05 level of significance, we fail to reject the null hypothesis.\n"
     ]
    }
   ],
   "source": [
    "alpha = 0.05\n",
    "\n",
    "if indTest.pvalue< alpha:\n",
    "    print('At {} level of significance, we can reject the null hypothesis in favor of alternative hypothesis.'.format(alpha))\n",
    "else:\n",
    "    print('At {} level of significance, we fail to reject the null hypothesis.'.format(alpha))"
   ]
  },
  {
   "cell_type": "code",
   "execution_count": 152,
   "id": "bdbd18ac",
   "metadata": {},
   "outputs": [
    {
     "data": {
      "image/png": "[encoded data removed]",
      "text/plain": [
       "<Figure size 576x432 with 1 Axes>"
      ]
     },
     "metadata": {
      "needs_background": "light"
     },
     "output_type": "display_data"
    }
   ],
   "source": [
    "plt.figure(figsize=(8,6))\n",
    "math_plot = [df2.loc[df2['Continent_Code'] == 'EU','Math'], df2.loc[df2['Continent_Code'] == 'AS','Math']]\n",
    "sns.boxplot(data=math_plot)\n",
    "plt.xticks(ticks=[0,1],labels=['EU', 'AS'])\n",
    "plt.ylabel('Math');"
   ]
  },
  {
   "cell_type": "markdown",
   "id": "4fecc3ac",
   "metadata": {},
   "source": [
    "#### EXERCISE 4\n",
    " A gym operator organized a 2-month exercise and diet program for 15 customers suffering from their excess weight. To evaluate whether this diet program was effective, he measured the customers' starting and ending weights and recorded them in the computer. Did the exercise and diet program have an impact on customers' weight loss? Use an α = .01 level test.  Weight Dataset\n",
    "\n",
    "CHECK: statistic=2.67808348404993, pvalue=0.00900646517506627"
   ]
  },
  {
   "cell_type": "code",
   "execution_count": 144,
   "id": "aa8fd5e8",
   "metadata": {},
   "outputs": [],
   "source": [
    "df3 = pd.read_excel(\"weight.xlsx\")"
   ]
  },
  {
   "cell_type": "code",
   "execution_count": 145,
   "id": "70bc6e19",
   "metadata": {},
   "outputs": [
    {
     "data": {
      "text/html": [
       "<div>\n",
       "<style scoped>\n",
       "    .dataframe tbody tr th:only-of-type {\n",
       "        vertical-align: middle;\n",
       "    }\n",
       "\n",
       "    .dataframe tbody tr th {\n",
       "        vertical-align: top;\n",
       "    }\n",
       "\n",
       "    .dataframe thead th {\n",
       "        text-align: right;\n",
       "    }\n",
       "</style>\n",
       "<table border=\"1\" class=\"dataframe\">\n",
       "  <thead>\n",
       "    <tr style=\"text-align: right;\">\n",
       "      <th></th>\n",
       "      <th>ID</th>\n",
       "      <th>starting</th>\n",
       "      <th>ending</th>\n",
       "    </tr>\n",
       "  </thead>\n",
       "  <tbody>\n",
       "    <tr>\n",
       "      <th>0</th>\n",
       "      <td>1</td>\n",
       "      <td>76</td>\n",
       "      <td>72</td>\n",
       "    </tr>\n",
       "    <tr>\n",
       "      <th>1</th>\n",
       "      <td>2</td>\n",
       "      <td>81</td>\n",
       "      <td>82</td>\n",
       "    </tr>\n",
       "    <tr>\n",
       "      <th>2</th>\n",
       "      <td>3</td>\n",
       "      <td>86</td>\n",
       "      <td>84</td>\n",
       "    </tr>\n",
       "    <tr>\n",
       "      <th>3</th>\n",
       "      <td>4</td>\n",
       "      <td>71</td>\n",
       "      <td>71</td>\n",
       "    </tr>\n",
       "    <tr>\n",
       "      <th>4</th>\n",
       "      <td>5</td>\n",
       "      <td>88</td>\n",
       "      <td>83</td>\n",
       "    </tr>\n",
       "    <tr>\n",
       "      <th>5</th>\n",
       "      <td>6</td>\n",
       "      <td>78</td>\n",
       "      <td>74</td>\n",
       "    </tr>\n",
       "    <tr>\n",
       "      <th>6</th>\n",
       "      <td>7</td>\n",
       "      <td>76</td>\n",
       "      <td>70</td>\n",
       "    </tr>\n",
       "    <tr>\n",
       "      <th>7</th>\n",
       "      <td>8</td>\n",
       "      <td>81</td>\n",
       "      <td>80</td>\n",
       "    </tr>\n",
       "    <tr>\n",
       "      <th>8</th>\n",
       "      <td>9</td>\n",
       "      <td>79</td>\n",
       "      <td>78</td>\n",
       "    </tr>\n",
       "    <tr>\n",
       "      <th>9</th>\n",
       "      <td>10</td>\n",
       "      <td>77</td>\n",
       "      <td>79</td>\n",
       "    </tr>\n",
       "    <tr>\n",
       "      <th>10</th>\n",
       "      <td>11</td>\n",
       "      <td>83</td>\n",
       "      <td>80</td>\n",
       "    </tr>\n",
       "    <tr>\n",
       "      <th>11</th>\n",
       "      <td>12</td>\n",
       "      <td>77</td>\n",
       "      <td>76</td>\n",
       "    </tr>\n",
       "    <tr>\n",
       "      <th>12</th>\n",
       "      <td>13</td>\n",
       "      <td>79</td>\n",
       "      <td>77</td>\n",
       "    </tr>\n",
       "    <tr>\n",
       "      <th>13</th>\n",
       "      <td>14</td>\n",
       "      <td>81</td>\n",
       "      <td>83</td>\n",
       "    </tr>\n",
       "    <tr>\n",
       "      <th>14</th>\n",
       "      <td>15</td>\n",
       "      <td>83</td>\n",
       "      <td>82</td>\n",
       "    </tr>\n",
       "  </tbody>\n",
       "</table>\n",
       "</div>"
      ],
      "text/plain": [
       "    ID  starting  ending\n",
       "0    1        76      72\n",
       "1    2        81      82\n",
       "2    3        86      84\n",
       "3    4        71      71\n",
       "4    5        88      83\n",
       "5    6        78      74\n",
       "6    7        76      70\n",
       "7    8        81      80\n",
       "8    9        79      78\n",
       "9   10        77      79\n",
       "10  11        83      80\n",
       "11  12        77      76\n",
       "12  13        79      77\n",
       "13  14        81      83\n",
       "14  15        83      82"
      ]
     },
     "execution_count": 145,
     "metadata": {},
     "output_type": "execute_result"
    }
   ],
   "source": [
    "df3"
   ]
  },
  {
   "cell_type": "code",
   "execution_count": 157,
   "id": "1902a1c5",
   "metadata": {},
   "outputs": [
    {
     "data": {
      "text/html": [
       "<div>\n",
       "<style scoped>\n",
       "    .dataframe tbody tr th:only-of-type {\n",
       "        vertical-align: middle;\n",
       "    }\n",
       "\n",
       "    .dataframe tbody tr th {\n",
       "        vertical-align: top;\n",
       "    }\n",
       "\n",
       "    .dataframe thead th {\n",
       "        text-align: right;\n",
       "    }\n",
       "</style>\n",
       "<table border=\"1\" class=\"dataframe\">\n",
       "  <thead>\n",
       "    <tr style=\"text-align: right;\">\n",
       "      <th></th>\n",
       "      <th>ID</th>\n",
       "      <th>starting</th>\n",
       "      <th>ending</th>\n",
       "      <th>Difference</th>\n",
       "    </tr>\n",
       "  </thead>\n",
       "  <tbody>\n",
       "    <tr>\n",
       "      <th>0</th>\n",
       "      <td>1</td>\n",
       "      <td>76</td>\n",
       "      <td>72</td>\n",
       "      <td>4</td>\n",
       "    </tr>\n",
       "    <tr>\n",
       "      <th>1</th>\n",
       "      <td>2</td>\n",
       "      <td>81</td>\n",
       "      <td>82</td>\n",
       "      <td>-1</td>\n",
       "    </tr>\n",
       "    <tr>\n",
       "      <th>2</th>\n",
       "      <td>3</td>\n",
       "      <td>86</td>\n",
       "      <td>84</td>\n",
       "      <td>2</td>\n",
       "    </tr>\n",
       "    <tr>\n",
       "      <th>3</th>\n",
       "      <td>4</td>\n",
       "      <td>71</td>\n",
       "      <td>71</td>\n",
       "      <td>0</td>\n",
       "    </tr>\n",
       "    <tr>\n",
       "      <th>4</th>\n",
       "      <td>5</td>\n",
       "      <td>88</td>\n",
       "      <td>83</td>\n",
       "      <td>5</td>\n",
       "    </tr>\n",
       "    <tr>\n",
       "      <th>5</th>\n",
       "      <td>6</td>\n",
       "      <td>78</td>\n",
       "      <td>74</td>\n",
       "      <td>4</td>\n",
       "    </tr>\n",
       "    <tr>\n",
       "      <th>6</th>\n",
       "      <td>7</td>\n",
       "      <td>76</td>\n",
       "      <td>70</td>\n",
       "      <td>6</td>\n",
       "    </tr>\n",
       "    <tr>\n",
       "      <th>7</th>\n",
       "      <td>8</td>\n",
       "      <td>81</td>\n",
       "      <td>80</td>\n",
       "      <td>1</td>\n",
       "    </tr>\n",
       "    <tr>\n",
       "      <th>8</th>\n",
       "      <td>9</td>\n",
       "      <td>79</td>\n",
       "      <td>78</td>\n",
       "      <td>1</td>\n",
       "    </tr>\n",
       "    <tr>\n",
       "      <th>9</th>\n",
       "      <td>10</td>\n",
       "      <td>77</td>\n",
       "      <td>79</td>\n",
       "      <td>-2</td>\n",
       "    </tr>\n",
       "    <tr>\n",
       "      <th>10</th>\n",
       "      <td>11</td>\n",
       "      <td>83</td>\n",
       "      <td>80</td>\n",
       "      <td>3</td>\n",
       "    </tr>\n",
       "    <tr>\n",
       "      <th>11</th>\n",
       "      <td>12</td>\n",
       "      <td>77</td>\n",
       "      <td>76</td>\n",
       "      <td>1</td>\n",
       "    </tr>\n",
       "    <tr>\n",
       "      <th>12</th>\n",
       "      <td>13</td>\n",
       "      <td>79</td>\n",
       "      <td>77</td>\n",
       "      <td>2</td>\n",
       "    </tr>\n",
       "    <tr>\n",
       "      <th>13</th>\n",
       "      <td>14</td>\n",
       "      <td>81</td>\n",
       "      <td>83</td>\n",
       "      <td>-2</td>\n",
       "    </tr>\n",
       "    <tr>\n",
       "      <th>14</th>\n",
       "      <td>15</td>\n",
       "      <td>83</td>\n",
       "      <td>82</td>\n",
       "      <td>1</td>\n",
       "    </tr>\n",
       "  </tbody>\n",
       "</table>\n",
       "</div>"
      ],
      "text/plain": [
       "    ID  starting  ending  Difference\n",
       "0    1        76      72           4\n",
       "1    2        81      82          -1\n",
       "2    3        86      84           2\n",
       "3    4        71      71           0\n",
       "4    5        88      83           5\n",
       "5    6        78      74           4\n",
       "6    7        76      70           6\n",
       "7    8        81      80           1\n",
       "8    9        79      78           1\n",
       "9   10        77      79          -2\n",
       "10  11        83      80           3\n",
       "11  12        77      76           1\n",
       "12  13        79      77           2\n",
       "13  14        81      83          -2\n",
       "14  15        83      82           1"
      ]
     },
     "execution_count": 157,
     "metadata": {},
     "output_type": "execute_result"
    }
   ],
   "source": [
    "df3[\"Difference\"] = df3.starting - df3.ending\n",
    "df3"
   ]
  },
  {
   "cell_type": "code",
   "execution_count": 158,
   "id": "464be3db",
   "metadata": {},
   "outputs": [
    {
     "data": {
      "text/plain": [
       "1.6666666666666667"
      ]
     },
     "execution_count": 158,
     "metadata": {},
     "output_type": "execute_result"
    }
   ],
   "source": [
    "df3.Difference.mean()"
   ]
  },
  {
   "cell_type": "code",
   "execution_count": 155,
   "id": "f448031c",
   "metadata": {},
   "outputs": [
    {
     "data": {
      "text/plain": [
       "Ttest_relResult(statistic=2.6780834840499255, pvalue=0.00900646517506626)"
      ]
     },
     "execution_count": 155,
     "metadata": {},
     "output_type": "execute_result"
    }
   ],
   "source": [
    "#this is a relational test required exercise because there are pre and post weight results to check.\n",
    "#h0 : difference = 0\n",
    "#h1 : difference > 0\n",
    "\n",
    "relTest = stats.ttest_rel(df3.starting, df3.ending, alternative = \"greater\")\n",
    "relTest"
   ]
  },
  {
   "cell_type": "code",
   "execution_count": 156,
   "id": "260ebd9d",
   "metadata": {},
   "outputs": [
    {
     "name": "stdout",
     "output_type": "stream",
     "text": [
      "At 0.01 level of significance, we can reject the null hypothesis in favor of alternative hypothesis.\n"
     ]
    }
   ],
   "source": [
    "alpha = 0.01\n",
    "\n",
    "if relTest.pvalue < alpha:\n",
    "    print('At {} level of significance, we can reject the null hypothesis in favor of alternative hypothesis.'.format(alpha))\n",
    "else:\n",
    "    print('At {} level of significance, we fail to reject the null hypothesis.'.format(alpha))"
   ]
  },
  {
   "cell_type": "markdown",
   "id": "684da785",
   "metadata": {},
   "source": [
    "So we can say that the h0 is rejected and the exercise and diet program have an impact on customers' weight loss."
   ]
  },
  {
   "cell_type": "code",
   "execution_count": null,
   "id": "f080c800",
   "metadata": {},
   "outputs": [],
   "source": []
  }
 ],
 "metadata": {
  "kernelspec": {
   "display_name": "Python 3 (ipykernel)",
   "language": "python",
   "name": "python3"
  },
  "language_info": {
   "codemirror_mode": {
    "name": "ipython",
    "version": 3
   },
   "file_extension": ".py",
   "mimetype": "text/x-python",
   "name": "python",
   "nbconvert_exporter": "python",
   "pygments_lexer": "ipython3",
   "version": "3.9.12"
  }
 },
 "nbformat": 4,
 "nbformat_minor": 5
}
